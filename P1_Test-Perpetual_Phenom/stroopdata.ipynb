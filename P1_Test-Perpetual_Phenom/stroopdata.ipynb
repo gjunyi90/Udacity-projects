{
 "cells": [
  {
   "cell_type": "markdown",
   "metadata": {},
   "source": [
    "# Statistics: The Science of Decisions Project Instructions\n",
    "\n",
    "## Background Information\n",
    "\n",
    "Stroop effect is a demonstration of interference in the reaction time of a task.\n",
    "\n",
    "__Stroop task Detailed Explanation:__\n",
    "In a Stroop task, participants are presented with a list of words, with each word displayed in a color of ink. The participant’s task is to say out loud the color of the ink in which the word is printed. The task has two conditions: a congruent words condition, and an incongruent words condition. In the congruent words condition, the words being displayed are color words whose names match the colors in which they are printed: for example RED, BLUE. In the incongruent words condition, the words displayed are color words whose names do not match the colors in which they are printed: for example PURPLE, ORANGE. In each case, we measure the time it takes to name the ink colors in equally-sized lists. Each participant will go through and record a time from each condition.\n",
    "Questions For Investigation\n",
    "\n",
    "As a general note, be sure to keep a record of any resources that you use or refer to in the creation of your project. You will need to report your sources as part of the project submission.\n",
    "1. What is our independent variable? \n",
    "    What is our dependent variable?\n",
    "2. What is an appropriate set of hypotheses for this task? What kind of statistical test do you expect to perform? Justify your choices.\n",
    "Now it’s your chance to try out the Stroop task for yourself. Go to this link, which has a Java-based applet for performing the Stroop task. Record the times that you received on the task (you do not need to submit your times to the site.) Now, download this dataset which contains results from a number of participants in the task. Each row of the dataset contains the performance for one participant, with the first number their results on the congruent task and the second number their performance on the incongruent task.\n",
    "3. Report some descriptive statistics regarding this dataset. Include at least one measure of central tendency and at least one measure of variability.\n",
    "4. Provide one or two visualizations that show the distribution of the sample data. Write one or two sentences noting what you observe about the plot or plots.\n",
    "5. Now, perform the statistical test and report your results. What is your confidence level and your critical statistic value? Do you reject the null hypothesis or fail to reject it? Come to a conclusion in terms of the experiment task. Did the results match up with your expectations?\n",
    "6. Optional: What do you think is responsible for the effects observed? Can you think of an alternative or similar task that would result in a similar effect? Some research about the problem will be helpful for thinking about these two questions!\n"
   ]
  },
  {
   "cell_type": "code",
   "execution_count": 27,
   "metadata": {},
   "outputs": [
    {
     "name": "stdout",
     "output_type": "stream",
     "text": [
      "   Congruent  Incongruent\n",
      "0     12.079       19.278\n",
      "1     16.791       18.741\n",
      "2      9.564       21.214\n",
      "3      8.630       15.687\n",
      "4     14.669       22.803\n",
      "\n",
      "Shape = (24, 2)\n"
     ]
    }
   ],
   "source": [
    "%matplotlib inline\n",
    "import csv\n",
    "from datetime import datetime\n",
    "import numpy as np\n",
    "import pandas as pd\n",
    "from IPython.display import display\n",
    "import matplotlib.pyplot as plt\n",
    "import seaborn as sns\n",
    "sns.set(color_codes=True)\n",
    "import numpy as np\n",
    "from scipy import stats\n",
    "import math\n",
    "\n",
    "df = pd.read_csv('stroopdata.csv')\n",
    "\n",
    "print(df.head())\n",
    "print()\n",
    "print(f'Shape = {df.shape}')"
   ]
  },
  {
   "cell_type": "markdown",
   "metadata": {},
   "source": [
    "## 1. What is our independent variable? What is our dependent variable?\n",
    "\n",
    "\n",
    "**Answer**:\n",
    "\n",
    "Independent variable is word condition which is the congruence of the word and its colour. \n",
    "\n",
    "Dependent variable is the measurement of time taken for the test."
   ]
  },
  {
   "cell_type": "markdown",
   "metadata": {},
   "source": [
    "## 2. What is an appropriate set of hypotheses for this task? What kind of statistical test do you expect to perform? Justify your choices.\n",
    "\n",
    "Now it’s your chance to try out the Stroop task for yourself. Go to this link, which has a Java-based applet for performing the Stroop task. Record the times that you received on the task (you do not need to submit your times to the site.) Now, download this dataset which contains results from a number of participants in the task. Each row of the dataset contains the performance for one participant, with the first number their results on the congruent task and the second number their performance on the incongruent task."
   ]
  },
  {
   "cell_type": "markdown",
   "metadata": {},
   "source": [
    "**Answer**: \n",
    "\n",
    "The current dataset represents a small sample group of a possibly large population of human. Luckily, we do not need data of the whole population to determine that, we have to make do with the small sample set and determine whether there is statistical significance in the two tasks. \n",
    "\n",
    "### Null Hypothesis, H<sub>0</sub>\n",
    "\n",
    "Null hypothesis is that there will not be difference in reading time for Congruent and Inconguent tasks.\n",
    "$$ H_0 : {μ}_{Congruent} = {μ}_{Incongruent}$$\n",
    "\n",
    "\n",
    "### Alternative Hypothesis, H<sub>a</sub>\n",
    "Alternative hypothesis is there will be difference in reading time for Congruent and Inconguent tasks.\n",
    "$$ H_a : {μ}_{Congruent} < {μ}_{Incongruent}$$\n",
    "\n",
    "_<body><center>where μ represents the population mean.</center></body>_\n",
    "\n",
    "\n",
    "__Paired sample T-test__ is chosen as the statistical test. The experiment has a person tested for both of the test (group of units that has been tested twice).\n",
    "\n",
    "As the sample size is small (n<30), t-test is suitable. In addition, standard deviation of the population is also unknown.\n"
   ]
  },
  {
   "cell_type": "markdown",
   "metadata": {},
   "source": [
    "## 3. Report some descriptive statistics regarding this dataset. Include at least one measure of central tendency and at least one measure of variability.\n"
   ]
  },
  {
   "cell_type": "code",
   "execution_count": 7,
   "metadata": {},
   "outputs": [
    {
     "name": "stdout",
     "output_type": "stream",
     "text": [
      "       Congruent  Incongruent\n",
      "count  24.000000    24.000000\n",
      "mean   14.051125    22.015917\n",
      "std     3.559358     4.797057\n",
      "min     8.630000    15.687000\n",
      "25%    11.895250    18.716750\n",
      "50%    14.356500    21.017500\n",
      "75%    16.200750    24.051500\n",
      "max    22.328000    35.255000\n"
     ]
    }
   ],
   "source": [
    "print(df.describe())"
   ]
  },
  {
   "cell_type": "markdown",
   "metadata": {},
   "source": [
    "\n",
    "**Answer**: \n",
    "\n",
    "Some descriptive statistics regarding this dataset:\n",
    "\n",
    "### Congruent:\n",
    "\n",
    "|\tDescriptive Statistics\t|\tValue\t|\n",
    "|\t-\t|\t-\t|\n",
    "|\tcount\t|\t24\t|\n",
    "|\tmean\t|\t14.051125\t|\n",
    "|\tstd\t|\t3.559358\t|\n",
    "|\tmin\t|\t8.63\t|\n",
    "|\t25%\t|\t11.89525\t|\n",
    "|\t50%\t|\t14.3565\t|\n",
    "|\t75%\t|\t16.20075\t|\n",
    "|\tmax\t|\t22.328\t|\n",
    "\n",
    "\n",
    "\n",
    "### Incongruent:\n",
    "\n",
    "|\tDescriptive Statistics\t|\tValue\t|\n",
    "|\t-\t|\t-\t|\n",
    "|\tcount\t|\t24\t|\n",
    "|\tmean\t|\t22.015917\t|\n",
    "|\tstd\t|\t4.797057\t|\n",
    "|\tmin\t|\t15.687\t|\n",
    "|\t25%\t|\t18.71675\t|\n",
    "|\t50%\t|\t21.0175\t|\n",
    "|\t75%\t|\t24.0515\t|\n",
    "|\tmax\t|\t35.255\t|\n",
    "\n",
    "\n",
    "### Comparison\n",
    "\n",
    "|\t-\t|\tCentral Tendency\t|\tVariability\t|\n",
    "|\t-\t|\t-\t|\t-\t|\n",
    "|\tCongruent\t|\t14.051\t|\t3.559\t|\n",
    "|\tIncongruent\t|\t22.0159\t| 4.797\t|\n"
   ]
  },
  {
   "cell_type": "markdown",
   "metadata": {},
   "source": [
    "## 4. Provide one or two visualizations that show the distribution of the sample data. Write one or two sentences noting what you observe about the plot or plots."
   ]
  },
  {
   "cell_type": "code",
   "execution_count": 10,
   "metadata": {},
   "outputs": [
    {
     "data": {
      "image/png": "[encoded data removed]",
      "text/plain": [
       "<Figure size 432x288 with 1 Axes>"
      ]
     },
     "metadata": {},
     "output_type": "display_data"
    }
   ],
   "source": [
    "sns.kdeplot(df['Congruent'], shade=True)\n",
    "sns.kdeplot(df['Incongruent'], shade=True)\n",
    "plt.show()"
   ]
  },
  {
   "cell_type": "markdown",
   "metadata": {},
   "source": [
    "**Answer**: By comparing the two distribution data on the same plot, it is seen that the congruent tests have faster time taken as compared ot the incongruent tests. Also, in the incongruent tests plot, it shows that there is a group of time taken that is slower than the rest of the results."
   ]
  },
  {
   "cell_type": "markdown",
   "metadata": {},
   "source": [
    "## 5. Now, perform the statistical test and report your results. \n",
    "What is your confidence level and your critical statistic value? \n",
    "\n",
    "Do you reject the null hypothesis or fail to reject it? \n",
    "\n",
    "Come to a conclusion in terms of the experiment task. \n",
    "\n",
    "Did the results match up with your expectations?\n"
   ]
  },
  {
   "cell_type": "code",
   "execution_count": 35,
   "metadata": {},
   "outputs": [
    {
     "name": "stdout",
     "output_type": "stream",
     "text": [
      "Critical statistic value for 95% confidence level = 1.714\n",
      "Standard Deviation = 4.865\n",
      "Point Estimate = -7.965\n",
      "t-statistic = 8.021\n"
     ]
    }
   ],
   "source": [
    "sample_no = len(df['Incongruent'])\n",
    "crit_stat = stats.t.ppf(0.95, sample_no - 1)\n",
    "\n",
    "print (f\"Critical statistic value for 95% confidence level = {crit_stat:.3f}\")\n",
    "\n",
    "df['Difference'] = df['Congruent'] - df['Incongruent']\n",
    "stddev = (np.std(df['Difference'], ddof = 1))\n",
    "\n",
    "print(f\"Standard Deviation = {stddev:.3f}\")\n",
    "\n",
    "pointest = np.mean(df['Congruent']) - np.mean(df['Incongruent'])\n",
    "\n",
    "print(f\"Point Estimate = {pointest:.3f}\")\n",
    "\n",
    "t_stat = abs(pointest)/(stddev/ np.sqrt(len(df['Congruent'])))\n",
    "\n",
    "print(f't-statistic = {t_stat:.3f}')"
   ]
  },
  {
   "cell_type": "markdown",
   "metadata": {},
   "source": [
    "#### What is your confidence level and your critical statistic value? \n",
    "\n",
    "Critical statistic value for 95% confidence level =  1.72\n",
    "\n",
    "#### Do you reject the null hypothesis or fail to reject it? \n",
    "\n",
    "We reject the __null hypothesis__ as there is significant difference between t-statistic and t-critical value.\n",
    "\n",
    "#### Come to a conclusion in terms of the experiment task. \n",
    "\n",
    "A conclusion can be drawn that incongruent tasks will have a longer time taken to be completed as compared to a congruent task.\n",
    "\n",
    "#### Did the results match up with your expectations?\n",
    "\n",
    "My results matches with the expectations. "
   ]
  },
  {
   "cell_type": "code",
   "execution_count": null,
   "metadata": {},
   "outputs": [],
   "source": []
  }
 ],
 "metadata": {
  "kernelspec": {
   "display_name": "Python 3",
   "language": "python",
   "name": "python3"
  },
  "language_info": {
   "codemirror_mode": {
    "name": "ipython",
    "version": 3
   },
   "file_extension": ".py",
   "mimetype": "text/x-python",
   "name": "python",
   "nbconvert_exporter": "python",
   "pygments_lexer": "ipython3",
   "version": "3.7.0"
  }
 },
 "nbformat": 4,
 "nbformat_minor": 1
}
